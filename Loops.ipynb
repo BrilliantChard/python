{
  "nbformat": 4,
  "nbformat_minor": 0,
  "metadata": {
    "colab": {
      "provenance": [],
      "authorship_tag": "ABX9TyP3Ve2/gywJdpXLgoJc2+P3",
      "include_colab_link": true
    },
    "kernelspec": {
      "name": "python3",
      "display_name": "Python 3"
    },
    "language_info": {
      "name": "python"
    }
  },
  "cells": [
    {
      "cell_type": "markdown",
      "metadata": {
        "id": "view-in-github",
        "colab_type": "text"
      },
      "source": [
        "<a href=\"https://colab.research.google.com/github/BrilliantChard/python/blob/main/Loops.ipynb\" target=\"_parent\"><img src=\"https://colab.research.google.com/assets/colab-badge.svg\" alt=\"Open In Colab\"/></a>"
      ]
    },
    {
      "cell_type": "code",
      "execution_count": 1,
      "metadata": {
        "id": "wsuxBLcrD6y2"
      },
      "outputs": [],
      "source": [
        "name = 'Chard'"
      ]
    },
    {
      "cell_type": "code",
      "source": [
        "print(f\"Hello {name}\")"
      ],
      "metadata": {
        "id": "FzixACXHEmnZ",
        "outputId": "d22d9c6c-e027-4b32-917d-feae86630823",
        "colab": {
          "base_uri": "https://localhost:8080/"
        }
      },
      "execution_count": 2,
      "outputs": [
        {
          "output_type": "stream",
          "name": "stdout",
          "text": [
            "Hello Chard\n"
          ]
        }
      ]
    },
    {
      "cell_type": "code",
      "source": [
        "planets = ['Mercury', 'Venus', 'Earth', 'Mars', 'Jupiter', 'Saturn', 'Uranus', 'Neptune']"
      ],
      "metadata": {
        "id": "p9hd6DqJEqMy"
      },
      "execution_count": 3,
      "outputs": []
    },
    {
      "cell_type": "code",
      "source": [
        "for planet in planets:\n",
        "  print(planet, end=' ')"
      ],
      "metadata": {
        "id": "Y7N1quylFD7p",
        "outputId": "5ba27c2c-dedb-4ce9-8ebb-0e29298bac12",
        "colab": {
          "base_uri": "https://localhost:8080/"
        }
      },
      "execution_count": 8,
      "outputs": [
        {
          "output_type": "stream",
          "name": "stdout",
          "text": [
            "Mercury Venus Earth Mars Jupiter Saturn Uranus Neptune "
          ]
        }
      ]
    },
    {
      "cell_type": "code",
      "source": [
        "mutiplicands = (2, 3, 4, 5)\n",
        "\n",
        "product = 1\n",
        "\n",
        "for mult in mutiplicands:\n",
        "  product = product * mult\n",
        "  print(f'The product multiplication is: {product}')\n",
        "\n",
        "product"
      ],
      "metadata": {
        "id": "siInercnFLmN",
        "outputId": "d12f33c0-9e4a-4269-fc93-9180dbbbb8b5",
        "colab": {
          "base_uri": "https://localhost:8080/"
        }
      },
      "execution_count": 12,
      "outputs": [
        {
          "output_type": "stream",
          "name": "stdout",
          "text": [
            "The product multiplication is: 2\n",
            "The product multiplication is: 6\n",
            "The product multiplication is: 24\n",
            "The product multiplication is: 120\n"
          ]
        },
        {
          "output_type": "execute_result",
          "data": {
            "text/plain": [
              "120"
            ]
          },
          "metadata": {},
          "execution_count": 12
        }
      ]
    },
    {
      "cell_type": "code",
      "source": [
        "mutiplicands = [2, 3, 4, 5]\n",
        "\n",
        "product = 1\n",
        "\n",
        "for mult in mutiplicands:\n",
        "  product = product * mult\n",
        "  print(f'The product multiplication is: {product}')\n",
        "\n",
        "product"
      ],
      "metadata": {
        "id": "qDFl2IyrF8fU",
        "outputId": "cbdf03db-b021-4395-d47a-dbd2797b30c7",
        "colab": {
          "base_uri": "https://localhost:8080/"
        }
      },
      "execution_count": 13,
      "outputs": [
        {
          "output_type": "stream",
          "name": "stdout",
          "text": [
            "The product multiplication is: 2\n",
            "The product multiplication is: 6\n",
            "The product multiplication is: 24\n",
            "The product multiplication is: 120\n"
          ]
        },
        {
          "output_type": "execute_result",
          "data": {
            "text/plain": [
              "120"
            ]
          },
          "metadata": {},
          "execution_count": 13
        }
      ]
    },
    {
      "cell_type": "code",
      "source": [
        "s = 'steganograpHy is the practicE of conceaLing a file, message, image, or video within another fiLe, message, image, Or video.'\n",
        "msg = ''\n",
        "# print all the uppercase letters in s, one at a time\n",
        "for char in s:\n",
        "    if char.isupper():\n",
        "        print(char, end='')"
      ],
      "metadata": {
        "id": "Fc6F1hp7Gibh",
        "outputId": "cc8a7545-1af3-4295-f0a0-8d626c191c5f",
        "colab": {
          "base_uri": "https://localhost:8080/"
        }
      },
      "execution_count": 16,
      "outputs": [
        {
          "output_type": "stream",
          "name": "stdout",
          "text": [
            "HELLO"
          ]
        }
      ]
    },
    {
      "cell_type": "code",
      "source": [
        "for i in range(5):\n",
        "  print(f'Task {i+1}')"
      ],
      "metadata": {
        "id": "v1PEG8HNG1zF",
        "outputId": "e38e5672-b0a7-4e2f-b9b7-b9470cf68dc3",
        "colab": {
          "base_uri": "https://localhost:8080/"
        }
      },
      "execution_count": 19,
      "outputs": [
        {
          "output_type": "stream",
          "name": "stdout",
          "text": [
            "Task 1\n",
            "Task 2\n",
            "Task 3\n",
            "Task 4\n",
            "Task 5\n"
          ]
        }
      ]
    },
    {
      "cell_type": "markdown",
      "source": [
        "# WHILE LOOP\n",
        "\n",
        "The other type of loop in Python is a while loop, which iterates until some condition is met:"
      ],
      "metadata": {
        "id": "vCMdAMr0HbNn"
      }
    },
    {
      "cell_type": "code",
      "source": [
        "i = 0\n",
        "\n",
        "name = 'Odhiambo'\n",
        "\n",
        "while i<(len(name)):\n",
        "  print(f'{name} is an Engineer')\n",
        "  i += 2"
      ],
      "metadata": {
        "id": "tybxEeaNHRT0",
        "outputId": "93a0ea4b-0038-4b36-acd1-1eb5e7ad5dcd",
        "colab": {
          "base_uri": "https://localhost:8080/"
        }
      },
      "execution_count": 27,
      "outputs": [
        {
          "output_type": "stream",
          "name": "stdout",
          "text": [
            "Odhiambo is an Engineer\n",
            "Odhiambo is an Engineer\n",
            "Odhiambo is an Engineer\n",
            "Odhiambo is an Engineer\n"
          ]
        }
      ]
    },
    {
      "cell_type": "markdown",
      "source": [
        "# List Comprehensions"
      ],
      "metadata": {
        "id": "6xbMa5ohIhsy"
      }
    },
    {
      "cell_type": "code",
      "source": [
        "squares = [n**2 for n in range(10)]\n",
        "squares"
      ],
      "metadata": {
        "id": "7C5j4O7eICB8",
        "outputId": "520095db-dab7-4c33-fdf5-6f5497393afb",
        "colab": {
          "base_uri": "https://localhost:8080/"
        }
      },
      "execution_count": 28,
      "outputs": [
        {
          "output_type": "execute_result",
          "data": {
            "text/plain": [
              "[0, 1, 4, 9, 16, 25, 36, 49, 64, 81]"
            ]
          },
          "metadata": {},
          "execution_count": 28
        }
      ]
    },
    {
      "cell_type": "code",
      "source": [
        "short_planet_names = [planet.upper() for planet in planets if len(planet) < 6]\n",
        "short_planet_names"
      ],
      "metadata": {
        "id": "CWZju1dtIw3b",
        "outputId": "a442a694-ac83-4665-ebf3-f2df51684ecb",
        "colab": {
          "base_uri": "https://localhost:8080/"
        }
      },
      "execution_count": 38,
      "outputs": [
        {
          "output_type": "execute_result",
          "data": {
            "text/plain": [
              "['VENUS', 'EARTH', 'MARS']"
            ]
          },
          "metadata": {},
          "execution_count": 38
        }
      ]
    },
    {
      "cell_type": "code",
      "source": [
        "count_negatives = [5, -1, -2, 0, 3]\n",
        "count_negatives"
      ],
      "metadata": {
        "id": "Lz5ymYTVKHBs",
        "outputId": "ddadf5a2-5fa6-4435-c642-6e4061c823d9",
        "colab": {
          "base_uri": "https://localhost:8080/"
        }
      },
      "execution_count": 39,
      "outputs": [
        {
          "output_type": "execute_result",
          "data": {
            "text/plain": [
              "[5, -1, -2, 0, 3]"
            ]
          },
          "metadata": {},
          "execution_count": 39
        }
      ]
    },
    {
      "cell_type": "code",
      "source": [
        "negative = [neg for neg in count_negatives if neg<0]\n",
        "negative"
      ],
      "metadata": {
        "id": "faKiYy6HK5sh",
        "outputId": "0eb4398d-2765-4c07-9552-93ed53c98dc2",
        "colab": {
          "base_uri": "https://localhost:8080/"
        }
      },
      "execution_count": 42,
      "outputs": [
        {
          "output_type": "execute_result",
          "data": {
            "text/plain": [
              "[-1, -2]"
            ]
          },
          "metadata": {},
          "execution_count": 42
        }
      ]
    },
    {
      "cell_type": "code",
      "source": [
        "negative = [neg<0 for neg in count_negatives]\n",
        "negative"
      ],
      "metadata": {
        "id": "QRhaUsiHLGVL",
        "outputId": "493ac08b-50a4-4c26-bd33-b85a77211122",
        "colab": {
          "base_uri": "https://localhost:8080/"
        }
      },
      "execution_count": 43,
      "outputs": [
        {
          "output_type": "execute_result",
          "data": {
            "text/plain": [
              "[False, True, True, False, False]"
            ]
          },
          "metadata": {},
          "execution_count": 43
        }
      ]
    },
    {
      "cell_type": "markdown",
      "source": [
        "# BORING MEAL SHEET"
      ],
      "metadata": {
        "id": "KcsLsCKeQCz0"
      }
    },
    {
      "cell_type": "code",
      "source": [
        "meals = [\n",
        "    \"Rice\",\n",
        "    \"Beans\",\n",
        "    'Ugali',\n",
        "    \"Ugali\",\n",
        "    \"Fish\",\n",
        "    'Fish',\n",
        "    \"Chapati\",\n",
        "    \"Sukuma Wiki\",\n",
        "    \"Chicken\",\n",
        "    'Pilau',\n",
        "    \"Pilau\",\n",
        "    \"Matoke\",\n",
        "    \"Githeri\"\n",
        "]\n"
      ],
      "metadata": {
        "id": "Yu6ZPvlNLZlZ"
      },
      "execution_count": 59,
      "outputs": []
    },
    {
      "cell_type": "code",
      "source": [
        "def boring_meal(meals):\n",
        "  boring = []\n",
        "  for i in range(len(meals)-1):\n",
        "    if meals[i] == meals[i+1]:\n",
        "      boring.append(meals[i])\n",
        "  if boring:\n",
        "    print(f'Boring meals found: {boring}')\n",
        "  else:\n",
        "    print('No boring meal found')\n",
        "\n",
        "\n",
        "boring_meal(meals)\n",
        "print(f\"Happy Coding {name}\")"
      ],
      "metadata": {
        "id": "OTZuruqwMl_h",
        "outputId": "b5eb9e15-bbb5-450f-b26c-ab43cae2210a",
        "colab": {
          "base_uri": "https://localhost:8080/"
        }
      },
      "execution_count": 60,
      "outputs": [
        {
          "output_type": "stream",
          "name": "stdout",
          "text": [
            "Boring meals found: ['Ugali', 'Fish', 'Pilau']\n",
            "Happy Coding Odhiambo\n"
          ]
        }
      ]
    },
    {
      "cell_type": "code",
      "source": [],
      "metadata": {
        "id": "VN0JssxTQ4fk"
      },
      "execution_count": null,
      "outputs": []
    }
  ]
}