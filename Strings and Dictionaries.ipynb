{
  "nbformat": 4,
  "nbformat_minor": 0,
  "metadata": {
    "colab": {
      "provenance": [],
      "authorship_tag": "ABX9TyMJpH/23ZynzgBRempGQvOv",
      "include_colab_link": true
    },
    "kernelspec": {
      "name": "python3",
      "display_name": "Python 3"
    },
    "language_info": {
      "name": "python"
    }
  },
  "cells": [
    {
      "cell_type": "markdown",
      "metadata": {
        "id": "view-in-github",
        "colab_type": "text"
      },
      "source": [
        "<a href=\"https://colab.research.google.com/github/BrilliantChard/python/blob/main/Strings%20and%20Dictionaries.ipynb\" target=\"_parent\"><img src=\"https://colab.research.google.com/assets/colab-badge.svg\" alt=\"Open In Colab\"/></a>"
      ]
    },
    {
      "cell_type": "code",
      "execution_count": 1,
      "metadata": {
        "id": "Qm_j-DuRYfE7"
      },
      "outputs": [],
      "source": [
        "# Strings\n",
        "\n",
        "x1 = 'Pluto is a planet'\n",
        "x2 = \"Pluto is a planet\""
      ]
    },
    {
      "cell_type": "code",
      "source": [
        "if (x1 == x2):\n",
        "  print(\"Both single and double quotes can be used to define a string\")\n",
        "else:\n",
        "  print(\"It can't work\")"
      ],
      "metadata": {
        "id": "N9NIhHGHZPwh",
        "outputId": "8a779761-11d5-4b03-e0d4-07d202559be5",
        "colab": {
          "base_uri": "https://localhost:8080/"
        }
      },
      "execution_count": 3,
      "outputs": [
        {
          "output_type": "stream",
          "name": "stdout",
          "text": [
            "Both single and double quotes can be used to define a string\n"
          ]
        }
      ]
    },
    {
      "cell_type": "code",
      "source": [
        "datestr = '1956-01-31'\n",
        "year, month, day = datestr.split('-')"
      ],
      "metadata": {
        "id": "EdIvbgf9ZSj5"
      },
      "execution_count": 4,
      "outputs": []
    },
    {
      "cell_type": "code",
      "source": [
        "'/'.join([month, day, year])"
      ],
      "metadata": {
        "id": "pRcOX5B0dcO3",
        "outputId": "3c47e4e2-190f-476d-981c-a9168f3a488f",
        "colab": {
          "base_uri": "https://localhost:8080/",
          "height": 35
        }
      },
      "execution_count": 5,
      "outputs": [
        {
          "output_type": "execute_result",
          "data": {
            "text/plain": [
              "'01/31/1956'"
            ],
            "application/vnd.google.colaboratory.intrinsic+json": {
              "type": "string"
            }
          },
          "metadata": {},
          "execution_count": 5
        }
      ]
    },
    {
      "cell_type": "code",
      "source": [],
      "metadata": {
        "id": "zlEXhpbgdha0"
      },
      "execution_count": null,
      "outputs": []
    }
  ]
}