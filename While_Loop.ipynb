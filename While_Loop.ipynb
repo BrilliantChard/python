{
  "nbformat": 4,
  "nbformat_minor": 0,
  "metadata": {
    "colab": {
      "provenance": [],
      "authorship_tag": "ABX9TyO24R3sUDHAULNHKO0/tgcX",
      "include_colab_link": true
    },
    "kernelspec": {
      "name": "python3",
      "display_name": "Python 3"
    },
    "language_info": {
      "name": "python"
    }
  },
  "cells": [
    {
      "cell_type": "markdown",
      "metadata": {
        "id": "view-in-github",
        "colab_type": "text"
      },
      "source": [
        "<a href=\"https://colab.research.google.com/github/BrilliantChard/python/blob/main/While_Loop.ipynb\" target=\"_parent\"><img src=\"https://colab.research.google.com/assets/colab-badge.svg\" alt=\"Open In Colab\"/></a>"
      ]
    },
    {
      "cell_type": "code",
      "execution_count": 2,
      "metadata": {
        "id": "zTpnBH7woY2H"
      },
      "outputs": [],
      "source": [
        "name = \"Simplilearn\""
      ]
    },
    {
      "cell_type": "code",
      "source": [
        "n = 1\n",
        "\n",
        "while n <= 10:\n",
        "  print(name)\n",
        "  n += 1"
      ],
      "metadata": {
        "id": "4_yr-rwio5A6",
        "outputId": "e0016c97-2e71-41e2-987d-51e9214b76c5",
        "colab": {
          "base_uri": "https://localhost:8080/"
        }
      },
      "execution_count": 3,
      "outputs": [
        {
          "output_type": "stream",
          "name": "stdout",
          "text": [
            "Simplilearn\n",
            "Simplilearn\n",
            "Simplilearn\n",
            "Simplilearn\n",
            "Simplilearn\n",
            "Simplilearn\n",
            "Simplilearn\n",
            "Simplilearn\n",
            "Simplilearn\n",
            "Simplilearn\n"
          ]
        }
      ]
    },
    {
      "cell_type": "code",
      "source": [
        "i = 0\n",
        "sum = 0\n",
        "\n",
        "while i <= 15:\n",
        "  sum = sum +i\n",
        "  i += 1\n",
        "\n",
        "print(f'The sum is {sum}')\n",
        "print(f\"Hello {name}\")"
      ],
      "metadata": {
        "id": "6JnbVNnGqHIb",
        "outputId": "f533e738-a8ff-46fc-b905-83d6b07214a5",
        "colab": {
          "base_uri": "https://localhost:8080/"
        }
      },
      "execution_count": 5,
      "outputs": [
        {
          "output_type": "stream",
          "name": "stdout",
          "text": [
            "The sum is 120\n",
            "Hello Simplilearn\n"
          ]
        }
      ]
    },
    {
      "cell_type": "code",
      "source": [
        "# Sum of Even numbers between 1 and 10 = 30\n",
        "\n",
        "j = 1\n",
        "sum = 0\n",
        "\n",
        "while j<=10:\n",
        "  if j%2 == 0:\n",
        "    sum += j\n",
        "  j += 1\n",
        "\n",
        "print(f\"Sum is {sum}\")"
      ],
      "metadata": {
        "id": "v7nUo6SvqYU-",
        "outputId": "2b62f731-4fb5-45cb-cc1c-5b82ee1862f5",
        "colab": {
          "base_uri": "https://localhost:8080/"
        }
      },
      "execution_count": 8,
      "outputs": [
        {
          "output_type": "stream",
          "name": "stdout",
          "text": [
            "Sum is 30\n"
          ]
        }
      ]
    },
    {
      "cell_type": "code",
      "source": [],
      "metadata": {
        "id": "u5YJfFkIqvp5"
      },
      "execution_count": null,
      "outputs": []
    }
  ]
}